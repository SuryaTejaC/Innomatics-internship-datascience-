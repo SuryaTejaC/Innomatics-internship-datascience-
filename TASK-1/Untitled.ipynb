{
 "cells": [
  {
   "cell_type": "code",
   "execution_count": 1,
   "id": "6a804c5d",
   "metadata": {},
   "outputs": [
    {
     "name": "stdout",
     "output_type": "stream",
     "text": [
      "Hello, World!\n"
     ]
    }
   ],
   "source": [
    "print('Hello, World!')"
   ]
  },
  {
   "cell_type": "code",
   "execution_count": 7,
   "id": "f9891532",
   "metadata": {},
   "outputs": [
    {
     "name": "stdout",
     "output_type": "stream",
     "text": [
      "-10\n",
      "20\n",
      "addition:  10\n",
      "subtraction:  -30\n",
      "multiply:  -200\n"
     ]
    }
   ],
   "source": [
    "a=int(input())\n",
    "b=int(input())\n",
    "add=a+b\n",
    "difference=a-b\n",
    "product=a*b\n",
    "print('addition: ',add)\n",
    "print('subtraction: ',difference)\n",
    "print('multiply: ',product)"
   ]
  },
  {
   "cell_type": "code",
   "execution_count": 9,
   "id": "1df8478a",
   "metadata": {},
   "outputs": [
    {
     "name": "stdout",
     "output_type": "stream",
     "text": [
      "20\n",
      "10\n",
      "2\n",
      "2.0\n"
     ]
    }
   ],
   "source": [
    "a=int(input())\n",
    "b=int(input())\n",
    "q=a//b\n",
    "s=a/b\n",
    "print(q)\n",
    "print(s)"
   ]
  },
  {
   "cell_type": "code",
   "execution_count": 10,
   "id": "3b0f51dc",
   "metadata": {},
   "outputs": [
    {
     "name": "stdout",
     "output_type": "stream",
     "text": [
      "5\n",
      "0\n",
      "1\n",
      "4\n",
      "9\n",
      "16\n",
      "25\n"
     ]
    }
   ],
   "source": [
    "n=int(input())\n",
    "for i in range(n+1):\n",
    "    s=i**2\n",
    "    print(s)"
   ]
  },
  {
   "cell_type": "code",
   "execution_count": 12,
   "id": "6e465d4b",
   "metadata": {},
   "outputs": [
    {
     "name": "stdout",
     "output_type": "stream",
     "text": [
      "1994\n",
      "not leap year\n"
     ]
    }
   ],
   "source": [
    "n=int(input())\n",
    "if n%4==0:\n",
    "    print('leap year')\n",
    "else:\n",
    "    print('not leap year')"
   ]
  },
  {
   "cell_type": "code",
   "execution_count": 1,
   "id": "2b0ca76b",
   "metadata": {},
   "outputs": [
    {
     "name": "stdout",
     "output_type": "stream",
     "text": [
      "5\n",
      "12345"
     ]
    }
   ],
   "source": [
    "n=int(input())\n",
    "sum=0\n",
    "q=''\n",
    "for i in range(1,n+1):\n",
    "    sum=sum+1\n",
    "    q=sum\n",
    "    print(sum, end='')"
   ]
  },
  {
   "cell_type": "code",
   "execution_count": 19,
   "id": "8af30e70",
   "metadata": {},
   "outputs": [
    {
     "name": "stdout",
     "output_type": "stream",
     "text": [
      "4\n",
      "not weird\n"
     ]
    }
   ],
   "source": [
    "n=int(input())\n",
    "if n%3==0:\n",
    "    print('weird')\n",
    "elif n%2==0 and 2<=n<=5:\n",
    "            print('not weird')\n",
    "elif n%2==0 and 6<=n<=20:\n",
    "            print('weird')\n",
    "else:\n",
    "    print('not weird')"
   ]
  }
 ],
 "metadata": {
  "kernelspec": {
   "display_name": "Python 3",
   "language": "python",
   "name": "python3"
  },
  "language_info": {
   "codemirror_mode": {
    "name": "ipython",
    "version": 3
   },
   "file_extension": ".py",
   "mimetype": "text/x-python",
   "name": "python",
   "nbconvert_exporter": "python",
   "pygments_lexer": "ipython3",
   "version": "3.8.8"
  }
 },
 "nbformat": 4,
 "nbformat_minor": 5
}
