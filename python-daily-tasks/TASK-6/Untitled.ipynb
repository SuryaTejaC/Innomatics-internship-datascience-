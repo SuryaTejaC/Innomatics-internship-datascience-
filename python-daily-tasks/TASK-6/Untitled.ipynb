{
 "cells": [
  {
   "cell_type": "code",
   "execution_count": 1,
   "id": "cce9ccb9",
   "metadata": {},
   "outputs": [],
   "source": [
    "import numpy as np"
   ]
  },
  {
   "cell_type": "code",
   "execution_count": 27,
   "id": "2d9d9644",
   "metadata": {},
   "outputs": [
    {
     "name": "stdout",
     "output_type": "stream",
     "text": [
      "[-10.  -8.   4.   3.   2.   1.]\n"
     ]
    }
   ],
   "source": [
    "# You are given a space separated list of numbers.\n",
    "# Your task is to print a reversed NumPy array with the element type float.\n",
    "\n",
    "a=[1,2, 3, 4, -8, -10]\n",
    "b=np.array(a,float)\n",
    "print(b[::-1])"
   ]
  },
  {
   "cell_type": "code",
   "execution_count": 28,
   "id": "af714aa0",
   "metadata": {},
   "outputs": [
    {
     "name": "stdout",
     "output_type": "stream",
     "text": [
      "[[1 2 3]\n",
      " [4 5 6]\n",
      " [7 8 9]]\n"
     ]
    }
   ],
   "source": [
    "# You are given a space separated list of nine integers. Your task is to convert this list into a 3X3 NumPy array.\n",
    "\n",
    "l=[1,2,3,4,5,6,7,8,9]\n",
    "print(np.reshape(l,(3,3)))"
   ]
  },
  {
   "cell_type": "code",
   "execution_count": 32,
   "id": "4f43e1f0",
   "metadata": {},
   "outputs": [
    {
     "name": "stdout",
     "output_type": "stream",
     "text": [
      "6\n",
      "2\n",
      "3\n",
      "Original array:  [[0 1 2]\n",
      " [3 4 5]]\n",
      "transposed array:  [[0 3]\n",
      " [1 4]\n",
      " [2 5]]\n",
      "flatten array:  [0 1 2 3 4 5]\n"
     ]
    }
   ],
   "source": [
    "# You are given a NXM integer array matrix with space separated elements ( N= rows and  M= columns).\n",
    "# Your task is to print the transpose and flatten results.\n",
    "\n",
    "values=int(input()) #number of elements to be present in an array\n",
    "N=int(input()) #number of rows\n",
    "M=int(input()) #number of columns\n",
    "array = np.arange(values).reshape(N,M)\n",
    "print('Original array: ',array)\n",
    "print('transposed array: ',np.transpose(array))\n",
    "print('flatten array: ',array.flatten())"
   ]
  },
  {
   "cell_type": "code",
   "execution_count": 39,
   "id": "0a27118c",
   "metadata": {},
   "outputs": [
    {
     "name": "stdout",
     "output_type": "stream",
     "text": [
      "6\n",
      "2\n",
      "2\n",
      "3\n",
      "original array1:  [[0 1 2]\n",
      " [3 4 5]]\n",
      "original array2:  [[0 1 2]\n",
      " [3 4 5]]\n",
      "concatenated array:  [[0 1 2]\n",
      " [3 4 5]\n",
      " [0 1 2]\n",
      " [3 4 5]]\n"
     ]
    }
   ],
   "source": [
    "# You are given two integer arrays of size NXP and MXP (N & M are rows, and P is the column). \n",
    "# Your task is to concatenate the arrays along axis 0.\n",
    "\n",
    "values=int(input()) #number of elements to be present in an array\n",
    "N=int(input()) #number of rows for 1st array\n",
    "M=int(input()) #number of rows for 2nd array\n",
    "P=int(input()) #number of columns\n",
    "array1 = np.arange(values).reshape(N,P)\n",
    "print('original array1: ',array1)\n",
    "array2= np.arange(values).reshape(M,P)\n",
    "print('original array2: ',array2)\n",
    "print('concatenated array: ',np.concatenate((array1, array2), axis = 0))"
   ]
  },
  {
   "cell_type": "code",
   "execution_count": 42,
   "id": "c7116eef",
   "metadata": {},
   "outputs": [
    {
     "name": "stdout",
     "output_type": "stream",
     "text": [
      "[[[1. 1. 1.]\n",
      "  [1. 1. 1.]\n",
      "  [1. 1. 1.]]\n",
      "\n",
      " [[1. 1. 1.]\n",
      "  [1. 1. 1.]\n",
      "  [1. 1. 1.]]\n",
      "\n",
      " [[1. 1. 1.]\n",
      "  [1. 1. 1.]\n",
      "  [1. 1. 1.]]]\n",
      "[[[0. 0. 0.]\n",
      "  [0. 0. 0.]\n",
      "  [0. 0. 0.]]\n",
      "\n",
      " [[0. 0. 0.]\n",
      "  [0. 0. 0.]\n",
      "  [0. 0. 0.]]\n",
      "\n",
      " [[0. 0. 0.]\n",
      "  [0. 0. 0.]\n",
      "  [0. 0. 0.]]]\n"
     ]
    }
   ],
   "source": [
    "# You are given the shape of the array in the form of space-separated integers, \n",
    "# each integer representing the size of different dimensions, your task is to print an array of the given shape and integer type using the tools numpy.zeros and numpy.ones.\n",
    "\n",
    "print(np.ones((3,3,3)))\n",
    "print(np.zeros((3,3,3)))\n"
   ]
  },
  {
   "cell_type": "code",
   "execution_count": 44,
   "id": "3a84e375",
   "metadata": {},
   "outputs": [
    {
     "name": "stdout",
     "output_type": "stream",
     "text": [
      "[[1. 0. 0.]\n",
      " [0. 1. 0.]\n",
      " [0. 0. 1.]]\n"
     ]
    }
   ],
   "source": [
    "# Your task is to print an array of size NXM with its main diagonal elements as 1's and 0's everywhere else.\n",
    "print(np.identity(3))"
   ]
  },
  {
   "cell_type": "code",
   "execution_count": 52,
   "id": "df1a4977",
   "metadata": {},
   "outputs": [
    {
     "name": "stdout",
     "output_type": "stream",
     "text": [
      "addition:  [ 6  8 10 12]\n",
      "subtraction:  [-4 -4 -4 -4]\n",
      "multiplication:  [ 5 12 21 32]\n",
      "division:  [0.2        0.33333333 0.42857143 0.5       ]\n",
      "mod:  [1 2 3 4]\n",
      "power:  [    1    64  2187 65536]\n"
     ]
    }
   ],
   "source": [
    "# Your task is to perform the following operations:\n",
    "a = np.array([1,2,3,4])\n",
    "b = np.array([5,6,7,8])\n",
    "print('addition: ',np.add(a, b))\n",
    "print('subtraction: ',np.subtract(a, b))\n",
    "print('multiplication: ',np.multiply(a, b))\n",
    "print('division: ',np.divide(a, b))\n",
    "print('mod: ',np.mod(a, b))\n",
    "print('power: ',np.power(a, b))"
   ]
  },
  {
   "cell_type": "code",
   "execution_count": 53,
   "id": "c89eee70",
   "metadata": {},
   "outputs": [
    {
     "name": "stdout",
     "output_type": "stream",
     "text": [
      "floor:  [1. 2. 3. 4. 5. 6. 7. 8. 9.]\n",
      "ceil:  [ 2.  3.  4.  5.  6.  7.  8.  9. 10.]\n",
      "rint:  [ 1.  2.  3.  4.  6.  7.  8.  9. 10.]\n"
     ]
    }
   ],
   "source": [
    "# You are given a 1-D array, A. Your task is to print the floor,ceil  and rint  of all the elements of .\n",
    "\n",
    "array=np.array([1.1, 2.2, 3.3, 4.4, 5.5, 6.6, 7.7, 8.8, 9.9])\n",
    "print('floor: ',np.floor(array))\n",
    "print('ceil: ',np.ceil(array))\n",
    "print('rint: ',np.rint(array))"
   ]
  },
  {
   "cell_type": "code",
   "execution_count": 56,
   "id": "a618a2ff",
   "metadata": {},
   "outputs": [
    {
     "name": "stdout",
     "output_type": "stream",
     "text": [
      "summation:  [4 6]\n",
      "product:  24\n"
     ]
    }
   ],
   "source": [
    "# You are given a 2-D array with dimensions NXM.\n",
    "# Your task is to perform the sum tool over axis 0 and then find the product of that result.\n",
    "\n",
    "my_array = np.array([ [1, 2], [3, 4] ])\n",
    "summation = np.sum(my_array, axis = 0)\n",
    "print('summation: ',summation)\n",
    "prod = np.prod(summation, axis = 0)\n",
    "print('product: ',prod)"
   ]
  },
  {
   "cell_type": "code",
   "execution_count": 60,
   "id": "bea8fe86",
   "metadata": {},
   "outputs": [
    {
     "name": "stdout",
     "output_type": "stream",
     "text": [
      "minimum:  [1 3]\n",
      "maximum:  3\n"
     ]
    }
   ],
   "source": [
    "# You are given a 2-D array with dimensions NXM.\n",
    "# Your task is to perform the min function over axis  and then find the max of that.\n",
    "\n",
    "my_array = np.array([ [1, 2], [3, 4] ])\n",
    "minimum = np.min(my_array, axis = 1)\n",
    "print('minimum: ',minimum)\n",
    "maximum = np.max(minimum, axis = 0)\n",
    "print('maximum: ',maximum)"
   ]
  },
  {
   "cell_type": "code",
   "execution_count": 62,
   "id": "0606a47b",
   "metadata": {},
   "outputs": [
    {
     "name": "stdout",
     "output_type": "stream",
     "text": [
      "mean:  [1.5 3.5]\n",
      "variance:  [1. 1.]\n",
      "standar deviation:  1.118033988749895\n"
     ]
    }
   ],
   "source": [
    "# You are given a 2-D array of size NXM.\n",
    "# Your task is to find:\n",
    "\n",
    "# The mean along axis 1 \n",
    "# The var along axis 0\n",
    "# The std along axis NONE\n",
    "\n",
    "\n",
    "my_array = np.array([ [1, 2], [3, 4] ])\n",
    "print('mean: ',np.mean(my_array, axis = 1))  \n",
    "print('variance: ',np.var(my_array, axis = 0))\n",
    "print('standar deviation: ',np.std(my_array, axis = None))"
   ]
  },
  {
   "cell_type": "code",
   "execution_count": 65,
   "id": "d62ba9ba",
   "metadata": {},
   "outputs": [
    {
     "name": "stdout",
     "output_type": "stream",
     "text": [
      "dot product:  11\n",
      "cross product:  -2\n"
     ]
    }
   ],
   "source": [
    "# You are given two arrays A and B. Both have dimensions of NXM.\n",
    "# Your task is to compute their matrix product.\n",
    "\n",
    "A = np.array([ 1, 2 ])\n",
    "B = np.array([ 3, 4 ])\n",
    "\n",
    "print('dot product: ',np.dot(A, B))\n",
    "print('cross product: ',np.cross(A,B))"
   ]
  },
  {
   "cell_type": "code",
   "execution_count": 66,
   "id": "427c00f3",
   "metadata": {},
   "outputs": [
    {
     "name": "stdout",
     "output_type": "stream",
     "text": [
      "inner:  11\n",
      "outer:  [[3 4]\n",
      " [6 8]]\n"
     ]
    }
   ],
   "source": [
    "# You are given two arrays: A and B.\n",
    "# Your task is to compute their inner and outer product.\n",
    "\n",
    "A = np.array([ 1, 2 ])\n",
    "B = np.array([ 3, 4 ])\n",
    "\n",
    "print('inner: ',np.inner(A, B))\n",
    "print('outer: ',np.outer(A,B))"
   ]
  },
  {
   "cell_type": "code",
   "execution_count": 68,
   "id": "7c434598",
   "metadata": {},
   "outputs": [
    {
     "name": "stdout",
     "output_type": "stream",
     "text": [
      "3.0\n"
     ]
    }
   ],
   "source": [
    "# You are given the coefficients of a polynomial P.\n",
    "# Your task is to find the value of  at point x.\n",
    "print(np.polyval([1.1, 2, 3],0))"
   ]
  },
  {
   "cell_type": "code",
   "execution_count": 72,
   "id": "46959484",
   "metadata": {},
   "outputs": [
    {
     "name": "stdout",
     "output_type": "stream",
     "text": [
      "0.0\n"
     ]
    }
   ],
   "source": [
    "# You are given a square matrix A with dimensions NXM. Your task is to find the determinant. \n",
    "# Note: Round the answer to 2 places after the decimal.\n",
    "\n",
    "\n",
    "\n",
    "determinant = np.linalg.det([[1.1 , 1.1], [1.1, 1.1]])\n",
    "print(round(determinant,1))"
   ]
  },
  {
   "cell_type": "code",
   "execution_count": null,
   "id": "36e1f181",
   "metadata": {},
   "outputs": [],
   "source": []
  }
 ],
 "metadata": {
  "kernelspec": {
   "display_name": "Python 3",
   "language": "python",
   "name": "python3"
  },
  "language_info": {
   "codemirror_mode": {
    "name": "ipython",
    "version": 3
   },
   "file_extension": ".py",
   "mimetype": "text/x-python",
   "name": "python",
   "nbconvert_exporter": "python",
   "pygments_lexer": "ipython3",
   "version": "3.8.8"
  }
 },
 "nbformat": 4,
 "nbformat_minor": 5
}
