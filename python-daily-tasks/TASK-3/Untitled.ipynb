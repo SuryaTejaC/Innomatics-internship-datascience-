{
 "cells": [
  {
   "cell_type": "code",
   "execution_count": 4,
   "id": "880bc41b",
   "metadata": {},
   "outputs": [
    {
     "name": "stdout",
     "output_type": "stream",
     "text": [
      "modulous is:  2.23606797749979\n",
      "argument is:  1.1071487177940904\n"
     ]
    }
   ],
   "source": [
    "# importing cmath for complexnumber computations\n",
    "import cmath\n",
    "import math\n",
    "\n",
    "# complex number contains real and imaginary number\n",
    "x=(1+2j)\n",
    "\n",
    "# converting real and imaginary into complex number\n",
    "z=complex(x)\n",
    "\n",
    "# printing modulous and argument of complex number\n",
    "w=cmath.polar(z)\n",
    "print('modulous is: ',w[0])\n",
    "print('argument is: ',w[1])"
   ]
  },
  {
   "cell_type": "code",
   "execution_count": 7,
   "id": "9c88a4a3",
   "metadata": {},
   "outputs": [
    {
     "name": "stdout",
     "output_type": "stream",
     "text": [
      "177\n",
      "10\n",
      "quotient is:  17\n",
      "remainder is:  7\n",
      "using divmod:  (17, 7)\n"
     ]
    }
   ],
   "source": [
    "# One of the built-in functions of Python is divmod, which takes two arguments a and b and returns a tuple containing \n",
    "# the quotient of a/b first and then the remainder a.\n",
    "\n",
    "a=int(input()) #taking input a value\n",
    "b=int(input()) #taking input b value\n",
    "\n",
    "print('quotient is: ',a//b) #performing floor division\n",
    "print('remainder is: ',a%b) #getting the remainder from the division\n",
    "print('using divmod: ',divmod(a,b)) #by using built-in function divmod"
   ]
  },
  {
   "cell_type": "code",
   "execution_count": 8,
   "id": "342ad50a",
   "metadata": {},
   "outputs": [
    {
     "name": "stdout",
     "output_type": "stream",
     "text": [
      "3\n",
      "4\n",
      "5\n",
      "81\n",
      "1\n"
     ]
    }
   ],
   "source": [
    "# You are given three integers: a, b, and m. Print two lines.\n",
    "# On the first line, print the result of pow(a,b). On the second line, print the result of pow(a,b,m).\n",
    "\n",
    "a=int(input()) #taking input a value\n",
    "b=int(input()) #taking input b value\n",
    "m=int(input()) #taking input m value\n",
    "\n",
    "print(pow(a,b))\n",
    "print(pow(a,b,m))"
   ]
  },
  {
   "cell_type": "code",
   "execution_count": 9,
   "id": "a72e3a4e",
   "metadata": {},
   "outputs": [
    {
     "name": "stdout",
     "output_type": "stream",
     "text": [
      "9\n",
      "29\n",
      "7\n",
      "27\n",
      "4710194409608608369201743232\n"
     ]
    }
   ],
   "source": [
    "# Read four numbers, a, b, c, and d, and print the result of  a^b+c^d.\n",
    "\n",
    "a=int(input()) #taking input a value\n",
    "b=int(input()) #taking input b value\n",
    "c=int(input()) #taking input c value\n",
    "d=int(input()) #taking input d value\n",
    "\n",
    "powerab=pow(a,b)\n",
    "powercd=pow(c,d)\n",
    "print(powerab+powercd)"
   ]
  },
  {
   "cell_type": "code",
   "execution_count": 5,
   "id": "54a3abcd",
   "metadata": {},
   "outputs": [
    {
     "name": "stdout",
     "output_type": "stream",
     "text": [
      "\n",
      "1\n",
      "22\n",
      "333\n",
      "4444\n",
      "55555\n"
     ]
    }
   ],
   "source": [
    "# You are given a positive integer N. Print a numerical triangle of height N-1.\n",
    "\n",
    "rows=5 # nnumber of rows\n",
    "for i in range(rows+1): # outer loop for number of rows\n",
    "    for j in range(i):  # inner loop for number of columns itering over rows\n",
    "        print(i,end='') # printing numbers with spaces\n",
    "    print('')\n",
    "        "
   ]
  },
  {
   "cell_type": "code",
   "execution_count": 35,
   "id": "153d1955",
   "metadata": {},
   "outputs": [
    {
     "name": "stdout",
     "output_type": "stream",
     "text": [
      "10\n",
      "10\n",
      "angle is:  44°\n"
     ]
    }
   ],
   "source": [
    "# You are given the lengths AB and BC.\n",
    "# Your task is to find <MBC  (angle 0, as shown in the figure) in degrees.\n",
    "\n",
    "AB = int(input()) #taking length of AB line\n",
    "BC = int(input()) #taking length of BC line\n",
    "AC = round(math.sqrt(ab**2+bc**2)) #finding length of AC line by pythogerous theorem formula\n",
    "\n",
    "div = round(AC/2) #dividing AC line into two parts to get triangle MBC\n",
    "\n",
    "Output = int(round(math.degrees(math.asin(div/ab)))) #finding angle using built-in functions\n",
    "Output = str(Output) #converting output to string \n",
    "print('angle is: ',Output+\"°\") #finally printing output"
   ]
  },
  {
   "cell_type": "code",
   "execution_count": null,
   "id": "ff90b6c6",
   "metadata": {},
   "outputs": [],
   "source": []
  }
 ],
 "metadata": {
  "kernelspec": {
   "display_name": "Python 3",
   "language": "python",
   "name": "python3"
  },
  "language_info": {
   "codemirror_mode": {
    "name": "ipython",
    "version": 3
   },
   "file_extension": ".py",
   "mimetype": "text/x-python",
   "name": "python",
   "nbconvert_exporter": "python",
   "pygments_lexer": "ipython3",
   "version": "3.8.8"
  }
 },
 "nbformat": 4,
 "nbformat_minor": 5
}
