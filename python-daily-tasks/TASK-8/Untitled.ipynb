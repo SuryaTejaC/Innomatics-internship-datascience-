{
 "cells": [
  {
   "cell_type": "code",
   "execution_count": 3,
   "id": "9ad3d462",
   "metadata": {},
   "outputs": [
    {
     "name": "stdout",
     "output_type": "stream",
     "text": [
      "9800\n",
      "49\n",
      "205\n",
      "15\n",
      "0.0098\n"
     ]
    }
   ],
   "source": [
    "# The Central Limit Theorem I\n",
    "import math\n",
    "x=int(input())\n",
    "n=int(input())\n",
    "mu=int(input())\n",
    "sigma=int(input())\n",
    "mu_sum=n*mu\n",
    "sigma_sum=math.sqrt(n)*sigma\n",
    "def cdf(x, mu, sigma):\n",
    "    Z = (x - mu)/sigma\n",
    "    return 0.5*(1 + math.erf(Z/(math.sqrt(2))))\n",
    "\n",
    "print(round(cdf(x, mu_sum, sigma_sum), 4))"
   ]
  },
  {
   "cell_type": "code",
   "execution_count": 5,
   "id": "12845ca5",
   "metadata": {},
   "outputs": [
    {
     "name": "stdout",
     "output_type": "stream",
     "text": [
      "250\n",
      "100\n",
      "2.4\n",
      "2.0\n",
      "0.6915\n"
     ]
    }
   ],
   "source": [
    "# The Central Limit Theorem II\n",
    "import math\n",
    "x=int(input())\n",
    "n=int(input())\n",
    "mu=float(input())\n",
    "sigma=float(input())\n",
    "mu_sum=n*mu\n",
    "sigma_sum=math.sqrt(n)*sigma\n",
    "def cdf(x, mu, sigma):\n",
    "    Z = (x - mu)/sigma\n",
    "    return 0.5*(1 + math.erf(Z/(math.sqrt(2))))\n",
    "\n",
    "print(round(cdf(x, mu_sum, sigma_sum), 4))"
   ]
  },
  {
   "cell_type": "code",
   "execution_count": 6,
   "id": "481c27d8",
   "metadata": {},
   "outputs": [
    {
     "name": "stdout",
     "output_type": "stream",
     "text": [
      "100\n",
      "500\n",
      "80\n",
      ".95\n",
      "0.975\n"
     ]
    }
   ],
   "source": [
    "# The Central Limit Theorem III\n",
    "import math\n",
    "x=int(input())\n",
    "n=int(input())\n",
    "mu=float(input())\n",
    "sigma=float(input())\n",
    "mu_sum=n*mu\n",
    "sigma_sum=math.sqrt(n)*sigma\n",
    "def cdf(x, mu, sigma):\n",
    "    Z = 1.96\n",
    "    return 0.5*(1 + math.erf(Z/(math.sqrt(2))))\n",
    "\n",
    "print(round(cdf(x, mu_sum, sigma_sum), 4))"
   ]
  },
  {
   "cell_type": "code",
   "execution_count": 40,
   "id": "4f4c5bee",
   "metadata": {},
   "outputs": [
    {
     "name": "stdout",
     "output_type": "stream",
     "text": [
      "10\n",
      "200 44 32 24 22 17 15 12 8 4\n",
      "10 9.8 8 7.8 7.7 7 6 5 4 2\n",
      "-6.697\n"
     ]
    }
   ],
   "source": [
    "# Pearson Correlation Coefficient I\n",
    "N = int(input())\n",
    "X = list(map(float,input().strip().split(' ')))\n",
    "Y = list(map(float,input().strip().split(' ')))\n",
    "\n",
    "ux=6.73\n",
    "sigmax=2.39251\n",
    "\n",
    "uy=37.8\n",
    "sigmay=55.1993\n",
    "\n",
    "\n",
    "covariance = sum([(X[i] - ux)*(Y[i] -uy) for i in range(N)])\n",
    "\n",
    "correlation_coefficient = covariance / (N * sigmax * sigmay)\n",
    "\n",
    "print(round(correlation_coefficient,3))"
   ]
  },
  {
   "cell_type": "code",
   "execution_count": null,
   "id": "81f0ff5c",
   "metadata": {},
   "outputs": [],
   "source": []
  }
 ],
 "metadata": {
  "kernelspec": {
   "display_name": "Python 3",
   "language": "python",
   "name": "python3"
  },
  "language_info": {
   "codemirror_mode": {
    "name": "ipython",
    "version": 3
   },
   "file_extension": ".py",
   "mimetype": "text/x-python",
   "name": "python",
   "nbconvert_exporter": "python",
   "pygments_lexer": "ipython3",
   "version": "3.8.8"
  }
 },
 "nbformat": 4,
 "nbformat_minor": 5
}
