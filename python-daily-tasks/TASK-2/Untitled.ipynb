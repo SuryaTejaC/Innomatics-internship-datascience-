{
 "cells": [
  {
   "cell_type": "code",
   "execution_count": 14,
   "id": "799a74a5",
   "metadata": {},
   "outputs": [
    {
     "name": "stdout",
     "output_type": "stream",
     "text": [
      "3\n",
      "[6, 12, 15, 18]\n",
      "runner-up score:  15\n"
     ]
    }
   ],
   "source": [
    "# Given the participants' score sheet for your University Sports Day, you are required to find the runner-up score. \n",
    "# You are given  scores. Store them in a list and find the score of the runner-up.\n",
    "\n",
    "import random\n",
    "random_list=[]\n",
    "n=int(input())\n",
    "for i in range(0,n+1):\n",
    "    n=random.randint(1,30)\n",
    "    random_list.append(n)\n",
    "    random_list.sort()\n",
    "print(random_list)\n",
    "print('runner-up score: ',random_list[-2])"
   ]
  },
  {
   "cell_type": "code",
   "execution_count": 38,
   "id": "d31082b7",
   "metadata": {},
   "outputs": [
    {
     "name": "stdout",
     "output_type": "stream",
     "text": [
      "alpha\n",
      "26\n"
     ]
    }
   ],
   "source": [
    "#The provided code stub will read in a dictionary containing key/value pairs of name:[marks] for a list of students. \n",
    "# Print the average of the marks array for the student name provided, showing 2 places after the decimal. \n",
    "\n",
    "students={'alpha':[20,50,10] , 'beta':[70,80,90]}\n",
    "n=str(input())\n",
    "if n in students:\n",
    "    marks=students.get(n)\n",
    "    average=sum(marks)//len(marks)\n",
    "    print(average)\n",
    "else:\n",
    "    print('student is not in the list')"
   ]
  },
  {
   "cell_type": "code",
   "execution_count": 21,
   "id": "4a970550",
   "metadata": {},
   "outputs": [
    {
     "name": "stdout",
     "output_type": "stream",
     "text": [
      "9\n",
      "list is: [0, 1, 2, 3, 4, 5, 6, 7, 8, 9]\n",
      "removing first element:  [1, 2, 3, 4, 5, 6, 7, 8, 9]\n",
      "appending the removed element:  [1, 2, 3, 4, 5, 6, 7, 8, 9, 0]\n",
      "sorting the list:  [0, 1, 2, 3, 4, 5, 6, 7, 8, 9]\n",
      "poping the last element from list:  [0, 1, 2, 3, 4, 5, 6, 7, 8]\n",
      "reversing the list:  [8, 7, 6, 5, 4, 3, 2, 1, 0]\n"
     ]
    }
   ],
   "source": [
    "# Consider a list (list = []). You can perform the following commands:\n",
    "\n",
    "# insert i e: Insert integer e at position i.\n",
    "# print: Print the list.\n",
    "# remove e: Delete the first occurrence of integer e.\n",
    "# append e: Insert integer e at the end of the list.\n",
    "# sort: Sort the list.\n",
    "# pop: Pop the last element from the list.\n",
    "# reverse: Reverse the list.\n",
    "# Initialize your list and read in the value of n followed by n lines of commands where each command will be of the 7 types listed above.\n",
    "# Iterate through each command in order and perform the corresponding operation on your list.\n",
    "\n",
    "lst=[]\n",
    "n=int(input())\n",
    "for i in range(n+1):\n",
    "    lst.append(i)\n",
    "print('list is:',lst)\n",
    "lst.remove(0)\n",
    "print('removing first element: ',lst)\n",
    "lst.append(0)\n",
    "print('appending the removed element: ',lst)\n",
    "lst.sort()\n",
    "print('sorting the list: ',lst)\n",
    "lst.pop()\n",
    "print('poping the last element from list: ',lst)\n",
    "print('reversing the list: ',lst[::-1])"
   ]
  },
  {
   "cell_type": "code",
   "execution_count": 32,
   "id": "6709ddf6",
   "metadata": {},
   "outputs": [
    {
     "name": "stdout",
     "output_type": "stream",
     "text": [
      "9\n",
      "4\n",
      "8524022316992554414\n"
     ]
    }
   ],
   "source": [
    "# Given an integer,n , and n space-separated integers as input, create a tuple,t , of those n integers.\n",
    "# Then compute and print the result of hash(t).\n",
    "\n",
    "n=int(input())\n",
    "T=tuple([int(i) for i in input().split()])\n",
    "print(hash(T))\n"
   ]
  },
  {
   "cell_type": "code",
   "execution_count": 44,
   "id": "ba533f20",
   "metadata": {},
   "outputs": [
    {
     "name": "stdout",
     "output_type": "stream",
     "text": [
      "10\n",
      "161\n",
      "182\n",
      "161\n",
      "170\n",
      "174\n",
      "154\n",
      "167\n",
      "171\n",
      "174\n",
      "190\n",
      "distinct heights:  171.125\n"
     ]
    }
   ],
   "source": [
    "# introduction to sets\n",
    "# Ms. Gabriel Williams is a botany professor at District College. One day, she asked her student Mickey to compute, \n",
    "# the average of all the plants with distinct heights in her greenhouse.\n",
    "\n",
    "n=int(input())\n",
    "l=set()\n",
    "for i in range(n):\n",
    "    q=int(input())\n",
    "    l.add(q)\n",
    "avg=sum(l)/len(l)\n",
    "print('distinct heights: ',avg)"
   ]
  },
  {
   "cell_type": "code",
   "execution_count": 68,
   "id": "66a55a92",
   "metadata": {},
   "outputs": [
    {
     "name": "stdout",
     "output_type": "stream",
     "text": [
      "7\n",
      "uk\n",
      "china\n",
      "usa\n",
      "france\n",
      "newzealand\n",
      "uk\n",
      "france\n",
      "5\n"
     ]
    }
   ],
   "source": [
    "# Rupal has a huge collection of country stamps. She decided to count the total number of distinct country stamps in her collection. She asked for your help. You pick the stamps one by one from a stack of  country stamps.\n",
    "\n",
    "# Find the total number of distinct country stamps.\n",
    "\n",
    "n=int(input())\n",
    "stamps=set()\n",
    "for i in range(n):\n",
    "    stamp_name=str(input())\n",
    "    stamps.add(stamp_name)\n",
    "print(len(stamps))"
   ]
  },
  {
   "cell_type": "code",
   "execution_count": 83,
   "id": "28986fe2",
   "metadata": {},
   "outputs": [
    {
     "name": "stdout",
     "output_type": "stream",
     "text": [
      "{0, 1, 2, 3, 4, 5, 6, 7, 8, 9}\n",
      "{3}\n"
     ]
    }
   ],
   "source": [
    "# You have a non-empty set s, and you have to execute N commands given in N lines.\n",
    "\n",
    "# The commands will be pop, remove and discard.\n",
    "\n",
    "\n",
    "m=set()\n",
    "for i in range(10):\n",
    "    m.add(i)\n",
    "print(m)\n",
    "m.pop()\n",
    "m.remove(4)\n",
    "m.discard(9)\n",
    "m.discard(8)\n",
    "m.remove(7)\n",
    "m.pop()\n",
    "m.discard(6)\n",
    "m.remove(5)\n",
    "m.pop()\n",
    "m.discard(5)\n",
    "print(m)"
   ]
  },
  {
   "cell_type": "code",
   "execution_count": 99,
   "id": "7380be08",
   "metadata": {},
   "outputs": [
    {
     "name": "stdout",
     "output_type": "stream",
     "text": [
      "5\n",
      "5\n",
      "students roll number subscribed for english newspaper:  {2, 9, 10, 23, 24, 28}\n",
      "students roll number subscribed for french newspaper:  {1, 7, 10, 12, 19, 24}\n",
      "{1, 2, 7, 9, 10, 12, 19, 23, 24, 28}\n",
      "total number of students who have at least one subscription:  10\n"
     ]
    }
   ],
   "source": [
    "# The students of District College have subscriptions to English and French newspapers. Some students have subscribed only to English, some have subscribed to only French and some have subscribed to both newspapers.\n",
    "\n",
    "# You are given two sets of student roll numbers. One set has subscribed to the English newspaper, and the other set is subscribed to the French newspaper. The same student could be in both sets. Your task is to find the total number of students who have subscribed to at least one newspaper.\n",
    "\n",
    "import random\n",
    "m=int(input())\n",
    "n=int(input())\n",
    "seta=set()\n",
    "setb=set()\n",
    "for i in range(0,m+1):\n",
    "    randa=random.randint(1,30)\n",
    "    seta.add(randa)\n",
    "print('students roll number subscribed for english newspaper: ',seta)\n",
    "for j in range(0,n+1):\n",
    "    randb=random.randint(1,30)\n",
    "    setb.add(randb)\n",
    "print('students roll number subscribed for french newspaper: ',setb)\n",
    "r=seta.union(setb)\n",
    "print(r)\n",
    "print('total number of students who have at least one subscription: ',len(r))"
   ]
  },
  {
   "cell_type": "code",
   "execution_count": 98,
   "id": "a6355f7a",
   "metadata": {},
   "outputs": [
    {
     "name": "stdout",
     "output_type": "stream",
     "text": [
      "13\n"
     ]
    }
   ],
   "source": [
    "# simple method without using random \n",
    "\n",
    "seta={1,2 ,3, 4, 5, 6, 7, 8, 9}\n",
    "setb={10, 1, 2, 3, 11, 21, 55, 6, 8}\n",
    "q=seta.union(setb)\n",
    "print(len(q))"
   ]
  },
  {
   "cell_type": "code",
   "execution_count": 100,
   "id": "3cb03ba5",
   "metadata": {},
   "outputs": [
    {
     "name": "stdout",
     "output_type": "stream",
     "text": [
      "6\n",
      "7\n",
      "students roll number subscribed for english newspaper:  {2, 7, 9, 11, 15, 16, 27}\n",
      "students roll number subscribed for french newspaper:  {6, 16, 17, 19, 21, 22, 23, 26}\n",
      "{16}\n",
      "total number of students who have at least one subscription:  1\n"
     ]
    }
   ],
   "source": [
    "#The students of District College have subscriptions to English and French newspapers. Some students have subscribed only to English, some have subscribed only to French, and some have subscribed to both newspapers.\n",
    "\n",
    "# You are given two sets of student roll numbers. One set has subscribed to the English newspaper, one set has subscribed to the French newspaper. Your task is to find the total number of students who have subscribed to both newspapers.\n",
    "\n",
    "import random\n",
    "m=int(input())\n",
    "n=int(input())\n",
    "seta=set()\n",
    "setb=set()\n",
    "for i in range(0,m+1):\n",
    "    randa=random.randint(1,30)\n",
    "    seta.add(randa)\n",
    "print('students roll number subscribed for english newspaper: ',seta)\n",
    "for j in range(0,n+1):\n",
    "    randb=random.randint(1,30)\n",
    "    setb.add(randb)\n",
    "print('students roll number subscribed for french newspaper: ',setb)\n",
    "r=seta.intersection(setb)\n",
    "print(r)\n",
    "print('total number of students who have at least one subscription: ',len(r))"
   ]
  },
  {
   "cell_type": "code",
   "execution_count": 101,
   "id": "98b48246",
   "metadata": {},
   "outputs": [
    {
     "name": "stdout",
     "output_type": "stream",
     "text": [
      "5\n"
     ]
    }
   ],
   "source": [
    "# simple method without using random \n",
    "\n",
    "seta={1,2 ,3, 4, 5, 6, 7, 8, 9}\n",
    "setb={10, 1, 2, 3, 11, 21, 55, 6, 8}\n",
    "q=seta.intersection(setb)\n",
    "print(len(q))"
   ]
  },
  {
   "cell_type": "code",
   "execution_count": 103,
   "id": "60a0f1dc",
   "metadata": {},
   "outputs": [
    {
     "name": "stdout",
     "output_type": "stream",
     "text": [
      "5\n",
      "7\n",
      "students roll number subscribed for english newspaper:  {18, 19, 20, 25, 26}\n",
      "students roll number subscribed for french newspaper:  {3, 4, 5, 20, 21, 25, 28, 30}\n",
      "{26, 18, 19}\n",
      "total number of students who have at least one subscription:  3\n"
     ]
    }
   ],
   "source": [
    "# Students of District College have a subscription to English and French newspapers. Some students have subscribed to only the English newspaper, some have subscribed to only the French newspaper, and some have subscribed to both newspapers.\n",
    "\n",
    "# You are given two sets of student roll numbers. One set has subscribed to the English newspaper, and one set has subscribed to the French newspaper. Your task is to find the total number of students who have subscribed to only English newspapers.\n",
    "\n",
    "import random\n",
    "m=int(input())\n",
    "n=int(input())\n",
    "seta=set()\n",
    "setb=set()\n",
    "for i in range(0,m+1):\n",
    "    randa=random.randint(1,30)\n",
    "    seta.add(randa)\n",
    "print('students roll number subscribed for english newspaper: ',seta)\n",
    "for j in range(0,n+1):\n",
    "    randb=random.randint(1,30)\n",
    "    setb.add(randb)\n",
    "print('students roll number subscribed for french newspaper: ',setb)\n",
    "r=seta.difference(setb)\n",
    "print(r)\n",
    "print('total number of students who have at least one subscription: ',len(r))"
   ]
  },
  {
   "cell_type": "code",
   "execution_count": 105,
   "id": "5dafc018",
   "metadata": {},
   "outputs": [
    {
     "name": "stdout",
     "output_type": "stream",
     "text": [
      "4\n"
     ]
    }
   ],
   "source": [
    "# simple method without using random \n",
    "\n",
    "seta={1,2 ,3, 4, 5, 6, 7, 8, 9}\n",
    "setb={10, 1, 2, 3, 11, 21, 55, 6, 8}\n",
    "q=seta.difference(setb)\n",
    "print(len(q))"
   ]
  },
  {
   "cell_type": "code",
   "execution_count": 108,
   "id": "58902839",
   "metadata": {
    "scrolled": true
   },
   "outputs": [
    {
     "name": "stdout",
     "output_type": "stream",
     "text": [
      "5\n",
      "5\n",
      "students roll number subscribed for english newspaper:  {4, 7, 9, 16, 30}\n",
      "students roll number subscribed for french newspaper:  {1, 3, 13, 18, 21, 23}\n",
      "{1, 3, 4, 7, 9, 13, 16, 18, 21, 23, 30}\n",
      "total number of students who have at least one subscription:  11\n"
     ]
    }
   ],
   "source": [
    "# Students of District College have subscriptions to English and French newspapers. Some students have subscribed to English only, some have subscribed to French only, and some have subscribed to both newspapers.\n",
    "\n",
    "# You are given two sets of student roll numbers. One set has subscribed to the English newspaper, and one set has subscribed to the French newspaper. Your task is to find the total number of students who have subscribed to either the English or the French newspaper but not both.\n",
    "\n",
    "import random\n",
    "m=int(input())\n",
    "n=int(input())\n",
    "seta=set()\n",
    "setb=set()\n",
    "for i in range(0,m+1):\n",
    "    randa=random.randint(1,30)\n",
    "    seta.add(randa)\n",
    "print('students roll number subscribed for english newspaper: ',seta)\n",
    "for j in range(0,n+1):\n",
    "    randb=random.randint(1,30)\n",
    "    setb.add(randb)\n",
    "print('students roll number subscribed for french newspaper: ',setb)\n",
    "r=seta.symmetric_difference(setb)\n",
    "print(r)\n",
    "print('total number of students who have at least one subscription: ',len(r))"
   ]
  },
  {
   "cell_type": "code",
   "execution_count": 106,
   "id": "91ecad9a",
   "metadata": {},
   "outputs": [
    {
     "name": "stdout",
     "output_type": "stream",
     "text": [
      "8\n"
     ]
    }
   ],
   "source": [
    "# simple method without using random \n",
    "\n",
    "seta={1,2 ,3, 4, 5, 6, 7, 8, 9}\n",
    "setb={10, 1, 2, 3, 11, 21, 55, 6, 8}\n",
    "q=seta.symmetric_difference(setb)\n",
    "print(len(q))"
   ]
  },
  {
   "cell_type": "code",
   "execution_count": 132,
   "id": "42cccc7f",
   "metadata": {},
   "outputs": [
    {
     "name": "stdout",
     "output_type": "stream",
     "text": [
      "intersection_update:  {1, 2, 3, 4, 5, 6, 7, 8, 9, 11}\n",
      "update:  {1, 2, 3, 4, 5, 6, 7, 8, 9, 11, 55, 56}\n",
      "symmetric_difference_update:  {1, 2, 3, 4, 5, 6, 8, 9, 35, 11, 22, 55, 56, 58, 62}\n",
      "difference_update:  {1, 2, 3, 4, 5, 6, 8, 9, 56}\n",
      "length of seta:  94\n"
     ]
    }
   ],
   "source": [
    "# You are given a set A and N number of other sets. These N  number of sets have to perform some specific mutation operations on set A.\n",
    "\n",
    "# Your task is to execute those operations and print the sum of elements from set A.\n",
    "\n",
    "seta={1, 2, 3, 4, 5, 6, 7, 8, 9, 10, 11, 12, 13, 14, 24, 52}\n",
    "\n",
    "\n",
    "intersection={2, 3, 5, 6, 8, 9, 1, 4, 7, 11}\n",
    "seta.intersection_update(intersection)\n",
    "print('intersection_update: ',seta)\n",
    "\n",
    "updated={55,56}\n",
    "seta.update(updated)\n",
    "print('update: ',seta)  \n",
    "\n",
    "symmetricdifferenceupdate ={22, 7, 35, 62, 58}\n",
    "seta.symmetric_difference_update(symmetricdifferenceupdate)\n",
    "print('symmetric_difference_update: ',seta)  \n",
    "\n",
    "differenceupdate ={11, 22, 35, 55, 58, 62, 66}\n",
    "seta.difference_update(differenceupdate)\n",
    "print('difference_update: ',seta)\n",
    "\n",
    "print('length of seta: ',sum(seta))"
   ]
  },
  {
   "cell_type": "code",
   "execution_count": 134,
   "id": "24978c05",
   "metadata": {},
   "outputs": [
    {
     "name": "stdout",
     "output_type": "stream",
     "text": [
      "True\n"
     ]
    }
   ],
   "source": [
    "# # You are given two sets,A  and B.\n",
    "# Your job is to find whether set A is a subset of set B.\n",
    "\n",
    "# If set A is subset of set B, print True.\n",
    "# If set A is not a subset of set B, print False.\n",
    "\n",
    "seta={1, 2, 3, 5, 6}\n",
    "setb={9, 8, 5, 6, 3, 2, 1, 4, 7}\n",
    "print(seta.issubset(setb))"
   ]
  },
  {
   "cell_type": "code",
   "execution_count": 136,
   "id": "765919d6",
   "metadata": {},
   "outputs": [
    {
     "name": "stdout",
     "output_type": "stream",
     "text": [
      "True\n",
      "False\n"
     ]
    }
   ],
   "source": [
    "# You are given a set A and n other sets.\n",
    "# Your job is to find whether set A is a strict superset of each of the N sets.\n",
    "\n",
    "# Print True, if A is a strict superset of each of the N sets. Otherwise, print False.\n",
    "\n",
    "# A strict superset has at least one element that does not exist in its subset.\n",
    "\n",
    "seta={1, 2, 3, 4, 5, 6, 7, 8, 9, 10, 11, 12, 23, 45, 84, 78}\n",
    "setb={1, 2, 3, 4, 5}\n",
    "setc={100, 11, 12}\n",
    "print(seta.issuperset(setb))\n",
    "print(seta.issuperset(setc))"
   ]
  },
  {
   "cell_type": "code",
   "execution_count": 66,
   "id": "46f2025c",
   "metadata": {},
   "outputs": [
    {
     "name": "stdout",
     "output_type": "stream",
     "text": [
      "{5, 9, 11, 12}\n"
     ]
    }
   ],
   "source": [
    "# Given 2 sets of integers,M  and N, print their symmetric difference in ascending order. \n",
    "# The term symmetric difference indicates those values that exist in either M or N but do not exist in both.\n",
    "\n",
    "seta={2, 4, 5, 9}\n",
    "setb={2, 4, 11, 12}\n",
    "q=seta.symmetric_difference(setb)\n",
    "print(q)"
   ]
  }
 ],
 "metadata": {
  "kernelspec": {
   "display_name": "Python 3",
   "language": "python",
   "name": "python3"
  },
  "language_info": {
   "codemirror_mode": {
    "name": "ipython",
    "version": 3
   },
   "file_extension": ".py",
   "mimetype": "text/x-python",
   "name": "python",
   "nbconvert_exporter": "python",
   "pygments_lexer": "ipython3",
   "version": "3.8.8"
  }
 },
 "nbformat": 4,
 "nbformat_minor": 5
}
