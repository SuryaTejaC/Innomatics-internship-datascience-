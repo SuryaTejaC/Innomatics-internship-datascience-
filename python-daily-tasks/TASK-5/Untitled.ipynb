{
 "cells": [
  {
   "cell_type": "code",
   "execution_count": 6,
   "id": "a56702c7",
   "metadata": {},
   "outputs": [
    {
     "name": "stdout",
     "output_type": "stream",
     "text": [
      "-1.00\n",
      "True\n"
     ]
    }
   ],
   "source": [
    "# You are given a string N.\n",
    "# Your task is to verify that N is a floating point number.\n",
    "\n",
    "import re\n",
    "\n",
    "string = str(input())\n",
    "\n",
    "\n",
    "match = re.search('^\\+|-|.', string)\n",
    "\n",
    "if match:\n",
    "  print(\"True\")\n",
    "else:\n",
    "  print(\"False\")  \n"
   ]
  },
  {
   "cell_type": "code",
   "execution_count": 9,
   "id": "9ca5cf5f",
   "metadata": {},
   "outputs": [
    {
     "name": "stdout",
     "output_type": "stream",
     "text": [
      "100,000,000.000\n",
      "['100', '000', '000', '000']\n"
     ]
    }
   ],
   "source": [
    "# You are given a string S consisting only of digits 0-9, commas ,, and dots .\n",
    "\n",
    "# Your task is to complete the regex_pattern defined below, which will be used to re.split() all of the , and . symbols in .\n",
    "\n",
    "# It’s guaranteed that every comma and every dot in S is preceeded and followed by a digit.\n",
    "\n",
    "import re\n",
    "\n",
    "string = str(input())\n",
    "pattern = '[,.]'\n",
    "\n",
    "result = re.split(pattern, string) \n",
    "print(result)"
   ]
  },
  {
   "cell_type": "code",
   "execution_count": 15,
   "id": "3b3687a4",
   "metadata": {},
   "outputs": [
    {
     "name": "stdout",
     "output_type": "stream",
     "text": [
      "12345678910111213141516171820212223\n",
      "1\n"
     ]
    }
   ],
   "source": [
    "# You are given a string S.\n",
    "# Your task is to find the first occurrence of an alphanumeric character in S (read from left to right) that has consecutive repetitions.\n",
    "\n",
    "import re\n",
    "\n",
    "string = str(input())\n",
    "pattern = '[0-9]'\n",
    "\n",
    "result = re.match(pattern, string)\n",
    "print(result.group(0))"
   ]
  },
  {
   "cell_type": "code",
   "execution_count": 31,
   "id": "03a422c5",
   "metadata": {},
   "outputs": [
    {
     "name": "stdout",
     "output_type": "stream",
     "text": [
      "rabcdeefgyYhFjkIoomnpOeorteeeeet\n",
      "['a', 'e', 'e', 'I', 'o', 'o', 'O', 'e', 'o', 'e', 'e', 'e', 'e', 'e']\n"
     ]
    }
   ],
   "source": [
    "# You are given a string S. It consists of alphanumeric characters, spaces and symbols(+,-).\n",
    "# Your task is to find all the substrings of  that contains  or more vowels.\n",
    "# Also, these substrings must lie in between  consonants and should contain vowels only.\n",
    "\n",
    "import re\n",
    "\n",
    "string = str(input())\n",
    "pattern = '[a,e,i,o,u,A,E,I,O,U]'\n",
    "\n",
    "result = re.findall(pattern, string)\n",
    "print(result)"
   ]
  },
  {
   "cell_type": "code",
   "execution_count": 18,
   "id": "7e34af44",
   "metadata": {},
   "outputs": [
    {
     "name": "stdout",
     "output_type": "stream",
     "text": [
      "aaadaa\n",
      "aa\n",
      "(0, 1)\n",
      "(1, 2)\n",
      "(4, 5)\n"
     ]
    }
   ],
   "source": [
    "# You are given a string .\n",
    "# Your task is to find the indices of the start and end of string  in .\n",
    "\n",
    "import re\n",
    "\n",
    "string = str(input())\n",
    "pattern = str(input())\n",
    "\n",
    "matches = list(re.finditer(r'(?={})', string))\n",
    "    \n",
    "if matches:\n",
    "    for match in matches:\n",
    "        print((match.start(), match.end() + len(pattern) - 1))\n",
    "else:\n",
    "    print((-1, -1))"
   ]
  },
  {
   "cell_type": "code",
   "execution_count": 53,
   "id": "e08c6ed6",
   "metadata": {},
   "outputs": [
    {
     "name": "stdout",
     "output_type": "stream",
     "text": [
      "CDXXI\n",
      "True\n"
     ]
    }
   ],
   "source": [
    "# You are given a string, and you have to validate whether it's a valid Roman numeral.\n",
    "# If it is valid, print True. Otherwise, print False. Try to create a regular expression for a valid Roman numeral.\n",
    "\n",
    "import re\n",
    "\n",
    "string = str(input())\n",
    "\n",
    "\n",
    "match = re.search('^M{0,3}(CM|CD|D?C{0,3})(XC|XL|L?X{0,3})(IX|IV|V?I{0,3})$', string)\n",
    "\n",
    "if match:\n",
    "    print(\"True\")\n",
    "else:\n",
    "    print(\"False\")  \n"
   ]
  },
  {
   "cell_type": "code",
   "execution_count": 54,
   "id": "ce89e122",
   "metadata": {},
   "outputs": [
    {
     "name": "stdout",
     "output_type": "stream",
     "text": [
      "9587456281\n",
      "YES\n"
     ]
    }
   ],
   "source": [
    "# Let's dive into the interesting topic of regular expressions! You are given some input, and you are required to check whether they are valid mobile numbers.\n",
    "\n",
    "# A valid mobile number is a ten digit number starting with a7, 8  or 9.\n",
    "\n",
    "\n",
    "\n",
    "import re\n",
    "\n",
    "string = str(input())\n",
    "\n",
    "\n",
    "match = re.search('(9|7|8)[0-9]+', string)\n",
    "\n",
    "if match:\n",
    "    print(\"YES\")\n",
    "else:\n",
    "    print(\"NO\") "
   ]
  },
  {
   "cell_type": "code",
   "execution_count": 62,
   "id": "a6125734",
   "metadata": {},
   "outputs": [
    {
     "name": "stdout",
     "output_type": "stream",
     "text": [
      "DOSHI <DOSHI@hackerrank.com>\n"
     ]
    }
   ],
   "source": [
    "# Validating and Parsing Email Addresses\n",
    "\n",
    "import email.utils\n",
    "print(email.utils.formataddr(('DOSHI', 'DOSHI@hackerrank.com')))"
   ]
  },
  {
   "cell_type": "code",
   "execution_count": 8,
   "id": "e95d3c8a",
   "metadata": {},
   "outputs": [
    {
     "name": "stdout",
     "output_type": "stream",
     "text": [
      "61234-567-8912-3456\n",
      "not valid\n"
     ]
    }
   ],
   "source": [
    "# You and Fredrick are good friends. Yesterday, Fredrick received N credit cards from ABCD Bank. \n",
    "# he wants to verify whether his credit card numbers are valid or not. You happen to be great at regex so he is asking for your help!\n",
    "\n",
    "\n",
    "import re\n",
    "\n",
    "string = str(input())\n",
    "\n",
    "if len(string)==16:\n",
    "    match = re.search('^([456][0-9]{3})-?([0-9]{4})-?([0-9]{4})-?([0-9]{4})$', string)\n",
    "    print('Vaid')\n",
    "else:\n",
    "    print('not valid')\n",
    "    \n",
    "    "
   ]
  },
  {
   "cell_type": "code",
   "execution_count": 4,
   "id": "30b074a2",
   "metadata": {},
   "outputs": [
    {
     "name": "stdout",
     "output_type": "stream",
     "text": [
      "110000\n",
      "False\n"
     ]
    }
   ],
   "source": [
    "# Locked stub code in the editor reads a single string denoting P from stdin and uses provided expression and your regular expressions to validate if P is a valid postal code.\n",
    "\n",
    "import re\n",
    "string = str(input())\n",
    "\n",
    "regex_integer_in_range = '^[1-9][\\d]{5}$'\n",
    "\n",
    "regex_alternating_repetitive_digit_pair = '(\\d)(?=\\d\\1)'\n",
    "\n",
    "print(bool(re.match(r'^[1-9][\\d]{5}$',s) and len(re.findall(r'(\\d)(?=\\d\\1)',s))<2 ))"
   ]
  },
  {
   "cell_type": "code",
   "execution_count": null,
   "id": "4414ea3a",
   "metadata": {},
   "outputs": [],
   "source": []
  }
 ],
 "metadata": {
  "kernelspec": {
   "display_name": "Python 3",
   "language": "python",
   "name": "python3"
  },
  "language_info": {
   "codemirror_mode": {
    "name": "ipython",
    "version": 3
   },
   "file_extension": ".py",
   "mimetype": "text/x-python",
   "name": "python",
   "nbconvert_exporter": "python",
   "pygments_lexer": "ipython3",
   "version": "3.8.8"
  }
 },
 "nbformat": 4,
 "nbformat_minor": 5
}
