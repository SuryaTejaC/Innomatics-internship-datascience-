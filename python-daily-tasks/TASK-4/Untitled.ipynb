{
 "cells": [
  {
   "cell_type": "code",
   "execution_count": 17,
   "id": "e35ade4e",
   "metadata": {},
   "outputs": [
    {
     "name": "stdout",
     "output_type": "stream",
     "text": [
      "hello\n",
      "HELLO"
     ]
    }
   ],
   "source": [
    "# You are given a string and your task is to swap cases. In other words, convert all lowercase letters to uppercase letters and vice versa.\n",
    "\n",
    "n=str(input()) #giving input only as string\n",
    "s='' #creating empty string to store the converted string\n",
    "for i in range(len(n)):\n",
    "    if n[i].islower()== True:\n",
    "        s=''.join(n[i].upper())\n",
    "    else:\n",
    "        s=''.join(n[i].lower())\n",
    "    print(s,end='')\n"
   ]
  },
  {
   "cell_type": "code",
   "execution_count": 20,
   "id": "fdb6c70e",
   "metadata": {},
   "outputs": [
    {
     "name": "stdout",
     "output_type": "stream",
     "text": [
      "this is a string\n",
      "this-is-a-string\n"
     ]
    }
   ],
   "source": [
    "# You are given a string. Split the string on a \" \" (space) delimiter and join using a - hyphen.\n",
    "\n",
    "n=str(input())\n",
    "s=''\n",
    "splitting=n.split(' ')\n",
    "s='-'.join(splitting)\n",
    "print(s)"
   ]
  },
  {
   "cell_type": "code",
   "execution_count": 23,
   "id": "8b830484",
   "metadata": {},
   "outputs": [
    {
     "name": "stdout",
     "output_type": "stream",
     "text": [
      "ross\n",
      "talor\n",
      "Hello ross talor! You just delved into python.\n"
     ]
    }
   ],
   "source": [
    "# You are given the firstname and lastname of a person on two different lines. Your task is to read them and print the following:\n",
    "\n",
    "# Hello firstname lastname! You just delved into python.\n",
    "\n",
    "firstname=str(input())\n",
    "lastname=str(input())\n",
    "print('Hello {} {}! You just delved into python.'.format(firstname,lastname))"
   ]
  },
  {
   "cell_type": "code",
   "execution_count": 31,
   "id": "b5308cbe",
   "metadata": {},
   "outputs": [
    {
     "name": "stdout",
     "output_type": "stream",
     "text": [
      "abracadabra\n",
      "5\n",
      "k\n",
      "abrackdabra\n"
     ]
    }
   ],
   "source": [
    "# Read a given string, change the character at a given index and then print the modified string.\n",
    "\n",
    "n = str(input()) # enter the input string\n",
    "l = list(n) # it is converted to list in order to change the character\n",
    "index = int(input()) # enter the index number you want the element to change\n",
    "string = str(input()) # enter the string\n",
    "l[index] = string\n",
    "finalstring = ''.join(l)\n",
    "print(finalstring)"
   ]
  },
  {
   "cell_type": "code",
   "execution_count": 42,
   "id": "8712d741",
   "metadata": {},
   "outputs": [
    {
     "name": "stdout",
     "output_type": "stream",
     "text": [
      "qA2\n",
      "True\n",
      "True\n",
      "True\n",
      "True\n",
      "True\n"
     ]
    }
   ],
   "source": [
    "# You are given a string S.\n",
    "# Your task is to find out if the string S contains: alphanumeric characters, alphabetical characters, digits, lowercase and uppercase characters.\n",
    "\n",
    "n=str(input()) # enter input string\n",
    "print(any(i.isalnum() for i in n)) # checking 'any' string isalnum using for loop\n",
    "print(any(i.isalpha() for i in n)) # checking 'any' string isalpha using for loop\n",
    "print(any(i.isdigit() for i in n)) # checking 'any' string isdigit using for loop\n",
    "print(any(i.islower() for i in n)) # checking 'any' string islower using for loop\n",
    "print(any(i.isupper() for i in n)) # checking 'any' string isupper using for loop"
   ]
  },
  {
   "cell_type": "code",
   "execution_count": 50,
   "id": "1d0ae1c6",
   "metadata": {},
   "outputs": [
    {
     "name": "stdout",
     "output_type": "stream",
     "text": [
      "chris\n",
      "alan\n",
      "Chris Alan\n"
     ]
    }
   ],
   "source": [
    "# You are asked to ensure that the first and last names of people begin with a capital letter in their passports. \n",
    "# For example, alison heck should be capitalised correctly as Alison Heck.\n",
    "\n",
    "firstname=str(input())\n",
    "lastname=str(input())\n",
    "first=firstname.title()\n",
    "last=lastname.title()\n",
    "print(first,last)"
   ]
  },
  {
   "cell_type": "code",
   "execution_count": 97,
   "id": "9c6e7add",
   "metadata": {},
   "outputs": [
    {
     "name": "stdout",
     "output_type": "stream",
     "text": [
      "AABCAAADA\n",
      "3\n",
      "BA\n",
      "CA\n",
      "AD\n"
     ]
    }
   ],
   "source": [
    "# The first line contains a single string, S.\n",
    "# The second line contains an integer,K , the length of each substring.\n",
    "\n",
    "\n",
    "string=str(input()) # your input string consists of characters\n",
    "k=int(input()) # give the value that is factor of length of string\n",
    "m=''\n",
    "for i in range(len(string)): #itering over the string\n",
    "    if i%k==0: # checking if the length of string is a factor of k or not\n",
    "        value=round(len(string)/k)\n",
    "split_strings = [string[index : index + value] for index in range(0, len(string), value)]\n",
    "for j in range(len(split_strings)):\n",
    "    m=''.join(set(split_strings[j]))\n",
    "    print(m)\n",
    "    "
   ]
  },
  {
   "cell_type": "code",
   "execution_count": 98,
   "id": "97d6b488",
   "metadata": {},
   "outputs": [
    {
     "name": "stdout",
     "output_type": "stream",
     "text": [
      "ABCDCDC\n",
      "CDC\n",
      "2\n"
     ]
    }
   ],
   "source": [
    "# In this challenge, the user enters a string and a substring. \n",
    "# You have to print the number of times that the substring occurs in the given string. \n",
    "# String traversal will take place from left to right, not from right to left.\n",
    "\n",
    "originalstring=str(input())\n",
    "substring=str(input())\n",
    "value=originalstring.find(substring)\n",
    "print(value)"
   ]
  },
  {
   "cell_type": "code",
   "execution_count": 102,
   "id": "cdfc67e4",
   "metadata": {},
   "outputs": [
    {
     "name": "stdout",
     "output_type": "stream",
     "text": [
      "ABCDEFGHIJKLIMNOQRSTUVWXYZ\n",
      "4\n",
      "ABCD\n",
      "EFGH\n",
      "IJKL\n",
      "IMNO\n",
      "QRST\n",
      "UVWX\n",
      "YZ\n"
     ]
    }
   ],
   "source": [
    "string=str(input()) # your input string consists of characters\n",
    "k=int(input()) # k value, that how many caharacters a single should consists of.\n",
    "m=''\n",
    "for i in range(len(string)): #itering over the string\n",
    "    split_strings = [string[index : index + k] for index in range(0, len(string), k)]\n",
    "for j in range(len(split_strings)):\n",
    "    m=''.join(sorted(set(split_strings[j])))\n",
    "    print(m)"
   ]
  },
  {
   "cell_type": "code",
   "execution_count": 124,
   "id": "d1497fbc",
   "metadata": {},
   "outputs": [
    {
     "name": "stdout",
     "output_type": "stream",
     "text": [
      "17\n",
      "1  1  1  1\n",
      "2  2  2  10\n",
      "3  3  3  11\n",
      "4  4  4  100\n",
      "5  5  5  101\n",
      "6  6  6  110\n",
      "7  7  7  111\n",
      "8  10  8  1000\n",
      "9  11  9  1001\n",
      "10  12  A  1010\n",
      "11  13  B  1011\n",
      "12  14  C  1100\n",
      "13  15  D  1101\n",
      "14  16  E  1110\n",
      "15  17  F  1111\n",
      "16  20  10  10000\n",
      "17  21  11  10001\n"
     ]
    }
   ],
   "source": [
    "# Given an integer, n, print the following values for each integer i from 1 to n:\n",
    "\n",
    "# Decimal\n",
    "# Octal\n",
    "# Hexadecimal (capitalized)\n",
    "# Binary\n",
    "\n",
    "n=int(input())\n",
    "for i in range(1,n+1):\n",
    "    octal = oct(i)[2:]\n",
    "    hexadecimal = hex(i)[2:].upper()\n",
    "    binary = bin(i)[2:]\n",
    "    decimal = i\n",
    "    print('{}  {}  {}  {}'.format(decimal,octal,hexadecimal,binary))"
   ]
  },
  {
   "cell_type": "code",
   "execution_count": null,
   "id": "816e6f64",
   "metadata": {},
   "outputs": [],
   "source": []
  }
 ],
 "metadata": {
  "kernelspec": {
   "display_name": "Python 3",
   "language": "python",
   "name": "python3"
  },
  "language_info": {
   "codemirror_mode": {
    "name": "ipython",
    "version": 3
   },
   "file_extension": ".py",
   "mimetype": "text/x-python",
   "name": "python",
   "nbconvert_exporter": "python",
   "pygments_lexer": "ipython3",
   "version": "3.8.8"
  }
 },
 "nbformat": 4,
 "nbformat_minor": 5
}
